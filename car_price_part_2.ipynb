{
 "cells": [
  {
   "attachments": {
    "car_dekho.jpg": {
     "image/jpeg": "[encoded data removed]"
    }
   },
   "cell_type": "markdown",
   "id": "994d509e",
   "metadata": {
    "papermill": {
     "duration": 0.077109,
     "end_time": "2022-03-07T07:52:57.090052",
     "exception": false,
     "start_time": "2022-03-07T07:52:57.012943",
     "status": "completed"
    },
    "tags": []
   },
   "source": [
    "# Building a car price prediction model for the CarDekho website\n",
    "# Part 2: Data preparation and model building\n",
    "![car_dekho.jpg](attachment:car_dekho.jpg)\n",
    "## About the project\n",
    "[CarDekho](https://www.cardekho.com/) is India's leading car search venture that helps users buy cars. Its website and app carry rich automotive content such as expert reviews, detailed specs and prices, comparisons as well as videos and pictures of all car brands and models available in India. The company has tie-ups with many auto manufacturers, more than 4000 car dealers and numerous financial institutions to facilitate the purchase of vehicles.\n",
    "\n",
    "In this project, we'll collect data about used cars from the CarDekho website, build a price prediction model and deploy it in a web app. The app may later be used by CarDekho users for evaluating the price of put up for sale vehicles or exploring collected data on their own.\n",
    "\n",
    "The data collection and model building are described in 2 notebooks:\n",
    "* Part 1: Data collection and splitting into train and validation datasets\n",
    "* Part 2: Data preparation and model building (current)\n",
    "\n",
    "**The goal of the current notebook** is to build a car price prediction model based on the train dataset and evaluate its success on the validation dataset. We will achieve it by following the next steps:\n",
    "1. Clean train dataset.\n",
    "2. Do exploratory data analysis and feature engineering on the train data.\n",
    "3. Train regression models on the train dataset.\n",
    "4. Choose the best one and test it on the validation dataset.\n",
    "\n",
    "## Links\n",
    "* [GitHub repository of the project](https://github.com/tushar92644/price-predictor-of-cars-)\n",
    "* [Web App](https://share.streamlit.io/tushar92644/price-predictor-of-cars-/main/app/app.py)"
   ]
  },
  {
   "cell_type": "code",
   "execution_count": 1,
   "id": "8d3094e8",
   "metadata": {},
   "outputs": [],
   "source": [
    "import numpy as np\n",
    "import pandas as pd\n",
    "import matplotlib.pyplot as plt\n",
    "import seaborn as sns\n",
    "import pickle\n",
    "\n",
    "from sklearn.metrics import r2_score, mean_absolute_error, mean_squared_error, make_scorer\n",
    "from sklearn.model_selection import GridSearchCV\n",
    "from sklearn.ensemble import RandomForestRegressor\n",
    "\n",
    "pd.options.display.max_columns = None"
   ]
  },
  {
   "cell_type": "markdown",
   "id": "23428509",
   "metadata": {},
   "source": [
    "# Importing datasets"
   ]
  },
  {
   "cell_type": "code",
   "execution_count": 2,
   "id": "2df165ed",
   "metadata": {
    "scrolled": true
   },
   "outputs": [
    {
     "data": {
      "text/html": [
       "<div>\n",
       "<style scoped>\n",
       "    .dataframe tbody tr th:only-of-type {\n",
       "        vertical-align: middle;\n",
       "    }\n",
       "\n",
       "    .dataframe tbody tr th {\n",
       "        vertical-align: top;\n",
       "    }\n",
       "\n",
       "    .dataframe thead th {\n",
       "        text-align: right;\n",
       "    }\n",
       "</style>\n",
       "<table border=\"1\" class=\"dataframe\">\n",
       "  <thead>\n",
       "    <tr style=\"text-align: right;\">\n",
       "      <th></th>\n",
       "      <th>name</th>\n",
       "      <th>year</th>\n",
       "      <th>selling_price_inr</th>\n",
       "      <th>km_driven</th>\n",
       "      <th>fuel</th>\n",
       "      <th>seller_type</th>\n",
       "      <th>transmission</th>\n",
       "      <th>owner</th>\n",
       "      <th>seats</th>\n",
       "      <th>engine_cc</th>\n",
       "      <th>max_power_bhp</th>\n",
       "    </tr>\n",
       "  </thead>\n",
       "  <tbody>\n",
       "    <tr>\n",
       "      <th>0</th>\n",
       "      <td>Chevrolet Beat LS</td>\n",
       "      <td>2010.0</td>\n",
       "      <td>135000.0</td>\n",
       "      <td>49700.0</td>\n",
       "      <td>Petrol</td>\n",
       "      <td>Individual</td>\n",
       "      <td>Manual</td>\n",
       "      <td>First Owner</td>\n",
       "      <td>5</td>\n",
       "      <td>1199.0</td>\n",
       "      <td>79.40</td>\n",
       "    </tr>\n",
       "    <tr>\n",
       "      <th>1</th>\n",
       "      <td>Tata Safari Storme VX</td>\n",
       "      <td>2015.0</td>\n",
       "      <td>925000.0</td>\n",
       "      <td>60000.0</td>\n",
       "      <td>Diesel</td>\n",
       "      <td>Individual</td>\n",
       "      <td>Manual</td>\n",
       "      <td>First Owner</td>\n",
       "      <td>7</td>\n",
       "      <td>2179.0</td>\n",
       "      <td>138.10</td>\n",
       "    </tr>\n",
       "    <tr>\n",
       "      <th>2</th>\n",
       "      <td>Mahindra XUV500 AT W10 FWD</td>\n",
       "      <td>2016.0</td>\n",
       "      <td>1275000.0</td>\n",
       "      <td>56000.0</td>\n",
       "      <td>Diesel</td>\n",
       "      <td>Dealer</td>\n",
       "      <td>Automatic</td>\n",
       "      <td>First Owner</td>\n",
       "      <td>7</td>\n",
       "      <td>2179.0</td>\n",
       "      <td>140.00</td>\n",
       "    </tr>\n",
       "    <tr>\n",
       "      <th>3</th>\n",
       "      <td>Toyota Innova 2.5 G (Diesel) 7 Seater</td>\n",
       "      <td>2015.0</td>\n",
       "      <td>950000.0</td>\n",
       "      <td>190000.0</td>\n",
       "      <td>Diesel</td>\n",
       "      <td>Individual</td>\n",
       "      <td>Manual</td>\n",
       "      <td>Second Owner</td>\n",
       "      <td>7</td>\n",
       "      <td>2494.0</td>\n",
       "      <td>100.60</td>\n",
       "    </tr>\n",
       "    <tr>\n",
       "      <th>4</th>\n",
       "      <td>Ford Ecosport 2015-2021 1.5 Petrol Titanium BSIV</td>\n",
       "      <td>2018.0</td>\n",
       "      <td>860000.0</td>\n",
       "      <td>40000.0</td>\n",
       "      <td>Petrol</td>\n",
       "      <td>Individual</td>\n",
       "      <td>Manual</td>\n",
       "      <td>First Owner</td>\n",
       "      <td>5</td>\n",
       "      <td>1497.0</td>\n",
       "      <td>121.31</td>\n",
       "    </tr>\n",
       "  </tbody>\n",
       "</table>\n",
       "</div>"
      ],
      "text/plain": [
       "                                               name    year  \\\n",
       "0                                 Chevrolet Beat LS  2010.0   \n",
       "1                             Tata Safari Storme VX  2015.0   \n",
       "2                        Mahindra XUV500 AT W10 FWD  2016.0   \n",
       "3             Toyota Innova 2.5 G (Diesel) 7 Seater  2015.0   \n",
       "4  Ford Ecosport 2015-2021 1.5 Petrol Titanium BSIV  2018.0   \n",
       "\n",
       "   selling_price_inr  km_driven    fuel seller_type transmission  \\\n",
       "0           135000.0    49700.0  Petrol  Individual       Manual   \n",
       "1           925000.0    60000.0  Diesel  Individual       Manual   \n",
       "2          1275000.0    56000.0  Diesel      Dealer    Automatic   \n",
       "3           950000.0   190000.0  Diesel  Individual       Manual   \n",
       "4           860000.0    40000.0  Petrol  Individual       Manual   \n",
       "\n",
       "          owner seats  engine_cc  max_power_bhp  \n",
       "0   First Owner     5     1199.0          79.40  \n",
       "1   First Owner     7     2179.0         138.10  \n",
       "2   First Owner     7     2179.0         140.00  \n",
       "3  Second Owner     7     2494.0         100.60  \n",
       "4   First Owner     5     1497.0         121.31  "
      ]
     },
     "execution_count": 2,
     "metadata": {},
     "output_type": "execute_result"
    }
   ],
   "source": [
    "raw_train, raw_valid = pd.read_csv('data/train.csv'), pd.read_csv('data/valid.csv')\n",
    "\n",
    "# fixing data type of seats column\n",
    "raw_train = raw_train.astype({'seats':str})\n",
    "raw_train['seats'] = raw_train['seats'].str.replace('.0','', regex=False).replace({'nan':np.nan})\n",
    "clean_train = raw_train.copy()\n",
    "\n",
    "raw_valid = raw_valid.astype({'seats':str})\n",
    "raw_valid['seats'] = raw_valid['seats'].str.replace('.0','', regex=False).replace({'nan':np.nan})\n",
    "\n",
    "clean_train.head()"
   ]
  },
  {
   "cell_type": "code",
   "execution_count": 3,
   "id": "2dfaa248",
   "metadata": {},
   "outputs": [
    {
     "name": "stdout",
     "output_type": "stream",
     "text": [
      "<class 'pandas.core.frame.DataFrame'>\n",
      "RangeIndex: 24046 entries, 0 to 24045\n",
      "Data columns (total 11 columns):\n",
      " #   Column             Non-Null Count  Dtype  \n",
      "---  ------             --------------  -----  \n",
      " 0   name               24046 non-null  object \n",
      " 1   year               24046 non-null  float64\n",
      " 2   selling_price_inr  24046 non-null  float64\n",
      " 3   km_driven          24045 non-null  float64\n",
      " 4   fuel               24046 non-null  object \n",
      " 5   seller_type        24046 non-null  object \n",
      " 6   transmission       24046 non-null  object \n",
      " 7   owner              24046 non-null  object \n",
      " 8   seats              23909 non-null  object \n",
      " 9   engine_cc          23890 non-null  float64\n",
      " 10  max_power_bhp      23714 non-null  float64\n",
      "dtypes: float64(5), object(6)\n",
      "memory usage: 2.0+ MB\n"
     ]
    }
   ],
   "source": [
    "clean_train.info()"
   ]
  },
  {
   "cell_type": "code",
   "execution_count": 4,
   "id": "4aad70d5",
   "metadata": {
    "scrolled": true
   },
   "outputs": [
    {
     "data": {
      "text/html": [
       "<div>\n",
       "<style scoped>\n",
       "    .dataframe tbody tr th:only-of-type {\n",
       "        vertical-align: middle;\n",
       "    }\n",
       "\n",
       "    .dataframe tbody tr th {\n",
       "        vertical-align: top;\n",
       "    }\n",
       "\n",
       "    .dataframe thead th {\n",
       "        text-align: right;\n",
       "    }\n",
       "</style>\n",
       "<table border=\"1\" class=\"dataframe\">\n",
       "  <thead>\n",
       "    <tr style=\"text-align: right;\">\n",
       "      <th></th>\n",
       "      <th>name</th>\n",
       "      <th>year</th>\n",
       "      <th>selling_price_inr</th>\n",
       "      <th>km_driven</th>\n",
       "      <th>fuel</th>\n",
       "      <th>seller_type</th>\n",
       "      <th>transmission</th>\n",
       "      <th>owner</th>\n",
       "      <th>seats</th>\n",
       "      <th>engine_cc</th>\n",
       "      <th>max_power_bhp</th>\n",
       "    </tr>\n",
       "  </thead>\n",
       "  <tbody>\n",
       "    <tr>\n",
       "      <th>0</th>\n",
       "      <td>Maruti Ignis 1.2 Alpha BSIV</td>\n",
       "      <td>2017.0</td>\n",
       "      <td>510000.0</td>\n",
       "      <td>35000.0</td>\n",
       "      <td>Petrol</td>\n",
       "      <td>Dealer</td>\n",
       "      <td>Manual</td>\n",
       "      <td>First Owner</td>\n",
       "      <td>5</td>\n",
       "      <td>1197.0</td>\n",
       "      <td>81.80</td>\n",
       "    </tr>\n",
       "    <tr>\n",
       "      <th>1</th>\n",
       "      <td>Hyundai Creta 1.6 VTVT AT SX Plus</td>\n",
       "      <td>2017.0</td>\n",
       "      <td>1150000.0</td>\n",
       "      <td>9161.0</td>\n",
       "      <td>Petrol</td>\n",
       "      <td>Dealer</td>\n",
       "      <td>Automatic</td>\n",
       "      <td>First Owner</td>\n",
       "      <td>5</td>\n",
       "      <td>1591.0</td>\n",
       "      <td>121.30</td>\n",
       "    </tr>\n",
       "    <tr>\n",
       "      <th>2</th>\n",
       "      <td>Mahindra Scorpio S2 9 Seater</td>\n",
       "      <td>2014.0</td>\n",
       "      <td>825000.0</td>\n",
       "      <td>46000.0</td>\n",
       "      <td>Diesel</td>\n",
       "      <td>Dealer</td>\n",
       "      <td>Manual</td>\n",
       "      <td>First Owner</td>\n",
       "      <td>9</td>\n",
       "      <td>2523.0</td>\n",
       "      <td>75.00</td>\n",
       "    </tr>\n",
       "    <tr>\n",
       "      <th>3</th>\n",
       "      <td>Hyundai Creta 1.6 VTVT SX Plus</td>\n",
       "      <td>2017.0</td>\n",
       "      <td>1100000.0</td>\n",
       "      <td>19543.0</td>\n",
       "      <td>Petrol</td>\n",
       "      <td>Individual</td>\n",
       "      <td>Manual</td>\n",
       "      <td>First Owner</td>\n",
       "      <td>5</td>\n",
       "      <td>1591.0</td>\n",
       "      <td>121.30</td>\n",
       "    </tr>\n",
       "    <tr>\n",
       "      <th>4</th>\n",
       "      <td>Maruti Wagon R VXI</td>\n",
       "      <td>2014.0</td>\n",
       "      <td>325000.0</td>\n",
       "      <td>76000.0</td>\n",
       "      <td>Petrol</td>\n",
       "      <td>Dealer</td>\n",
       "      <td>Manual</td>\n",
       "      <td>First Owner</td>\n",
       "      <td>5</td>\n",
       "      <td>998.0</td>\n",
       "      <td>67.05</td>\n",
       "    </tr>\n",
       "  </tbody>\n",
       "</table>\n",
       "</div>"
      ],
      "text/plain": [
       "                                name    year  selling_price_inr  km_driven  \\\n",
       "0        Maruti Ignis 1.2 Alpha BSIV  2017.0           510000.0    35000.0   \n",
       "1  Hyundai Creta 1.6 VTVT AT SX Plus  2017.0          1150000.0     9161.0   \n",
       "2       Mahindra Scorpio S2 9 Seater  2014.0           825000.0    46000.0   \n",
       "3     Hyundai Creta 1.6 VTVT SX Plus  2017.0          1100000.0    19543.0   \n",
       "4                 Maruti Wagon R VXI  2014.0           325000.0    76000.0   \n",
       "\n",
       "     fuel seller_type transmission        owner seats  engine_cc  \\\n",
       "0  Petrol      Dealer       Manual  First Owner     5     1197.0   \n",
       "1  Petrol      Dealer    Automatic  First Owner     5     1591.0   \n",
       "2  Diesel      Dealer       Manual  First Owner     9     2523.0   \n",
       "3  Petrol  Individual       Manual  First Owner     5     1591.0   \n",
       "4  Petrol      Dealer       Manual  First Owner     5      998.0   \n",
       "\n",
       "   max_power_bhp  \n",
       "0          81.80  \n",
       "1         121.30  \n",
       "2          75.00  \n",
       "3         121.30  \n",
       "4          67.05  "
      ]
     },
     "execution_count": 4,
     "metadata": {},
     "output_type": "execute_result"
    }
   ],
   "source": [
    "raw_valid.head()"
   ]
  },
  {
   "cell_type": "markdown",
   "id": "fd8bac95",
   "metadata": {},
   "source": [
    "# Data cleaning of train dataset\n",
    "Let's start by taking a look at the number of fields with null values."
   ]
  },
  {
   "cell_type": "code",
   "execution_count": 5,
   "id": "e837b667",
   "metadata": {
    "scrolled": true
   },
   "outputs": [],
   "source": [
    "def null_counter(df):\n",
    "    display(\n",
    "        pd.DataFrame(\n",
    "            df.isnull().sum(axis=1).value_counts().sort_index(ascending=False)\n",
    "        ).reset_index().rename(columns={'index':'n_nulls', 0:'n_rows'})\n",
    "    )\n",
    "    \n",
    "def n_nulls_cols_counter(df, n_nulls):\n",
    "    print(\n",
    "        df[df.isnull().sum(axis=1)==n_nulls].apply(lambda row: frozenset(df.columns[row.isnull()]), axis=1).value_counts()\n",
    "    )\n",
    "\n",
    "def all_null_cols_counter(df):\n",
    "    uniq_n_nulls = sorted(df.isnull().sum(axis=1).unique(), reverse = True)[:-1]\n",
    "    for n in uniq_n_nulls:\n",
    "        print('>>> List of columns with null values, where amount of nulls =', n,'<<<')\n",
    "        n_nulls_cols_counter(df, n)\n",
    "        print()"
   ]
  },
  {
   "cell_type": "code",
   "execution_count": 6,
   "id": "cbf5cf96",
   "metadata": {},
   "outputs": [
    {
     "data": {
      "text/html": [
       "<div>\n",
       "<style scoped>\n",
       "    .dataframe tbody tr th:only-of-type {\n",
       "        vertical-align: middle;\n",
       "    }\n",
       "\n",
       "    .dataframe tbody tr th {\n",
       "        vertical-align: top;\n",
       "    }\n",
       "\n",
       "    .dataframe thead th {\n",
       "        text-align: right;\n",
       "    }\n",
       "</style>\n",
       "<table border=\"1\" class=\"dataframe\">\n",
       "  <thead>\n",
       "    <tr style=\"text-align: right;\">\n",
       "      <th></th>\n",
       "      <th>n_nulls</th>\n",
       "      <th>n_rows</th>\n",
       "    </tr>\n",
       "  </thead>\n",
       "  <tbody>\n",
       "    <tr>\n",
       "      <th>0</th>\n",
       "      <td>3</td>\n",
       "      <td>109</td>\n",
       "    </tr>\n",
       "    <tr>\n",
       "      <th>1</th>\n",
       "      <td>2</td>\n",
       "      <td>54</td>\n",
       "    </tr>\n",
       "    <tr>\n",
       "      <th>2</th>\n",
       "      <td>1</td>\n",
       "      <td>191</td>\n",
       "    </tr>\n",
       "    <tr>\n",
       "      <th>3</th>\n",
       "      <td>0</td>\n",
       "      <td>23692</td>\n",
       "    </tr>\n",
       "  </tbody>\n",
       "</table>\n",
       "</div>"
      ],
      "text/plain": [
       "   n_nulls  n_rows\n",
       "0        3     109\n",
       "1        2      54\n",
       "2        1     191\n",
       "3        0   23692"
      ]
     },
     "metadata": {},
     "output_type": "display_data"
    }
   ],
   "source": [
    "null_counter(clean_train)"
   ]
  },
  {
   "cell_type": "code",
   "execution_count": 7,
   "id": "a6cfb536",
   "metadata": {
    "scrolled": true
   },
   "outputs": [
    {
     "name": "stdout",
     "output_type": "stream",
     "text": [
      ">>> List of columns with null values, where amount of nulls = 3 <<<\n",
      "(max_power_bhp, seats, engine_cc)    109\n",
      "dtype: int64\n",
      "\n",
      ">>> List of columns with null values, where amount of nulls = 2 <<<\n",
      "(max_power_bhp, engine_cc)    38\n",
      "(max_power_bhp, seats)        16\n",
      "dtype: int64\n",
      "\n",
      ">>> List of columns with null values, where amount of nulls = 1 <<<\n",
      "(max_power_bhp)    169\n",
      "(seats)             12\n",
      "(engine_cc)          9\n",
      "(km_driven)          1\n",
      "dtype: int64\n",
      "\n"
     ]
    }
   ],
   "source": [
    "all_null_cols_counter(clean_train)"
   ]
  },
  {
   "cell_type": "markdown",
   "id": "00a9bc23",
   "metadata": {},
   "source": [
    "First, let's deal with the null value in *km_driven*, which previously contained an outlier in Part 1 of the project. We will fill it with the mean *km_driven* of cars with 'Fourth & Above Owner', since it was the reason why we dropped this value."
   ]
  },
  {
   "cell_type": "code",
   "execution_count": 8,
   "id": "1113882e",
   "metadata": {
    "scrolled": false
   },
   "outputs": [
    {
     "name": "stdout",
     "output_type": "stream",
     "text": [
      ">>> List of columns with null values, where amount of nulls = 3 <<<\n",
      "(max_power_bhp, seats, engine_cc)    109\n",
      "dtype: int64\n",
      "\n",
      ">>> List of columns with null values, where amount of nulls = 2 <<<\n",
      "(max_power_bhp, engine_cc)    38\n",
      "(max_power_bhp, seats)        16\n",
      "dtype: int64\n",
      "\n",
      ">>> List of columns with null values, where amount of nulls = 1 <<<\n",
      "(max_power_bhp)    169\n",
      "(seats)             12\n",
      "(engine_cc)          9\n",
      "dtype: int64\n",
      "\n"
     ]
    }
   ],
   "source": [
    "clean_train.loc[clean_train['km_driven'].isnull(), 'km_driven'] = clean_train.loc[clean_train['owner']=='Fourth & Above Owner', 'km_driven'].mean()\n",
    "all_null_cols_counter(clean_train)"
   ]
  },
  {
   "cell_type": "markdown",
   "id": "04b04abb",
   "metadata": {},
   "source": [
    "Now let's get the brand of car from the *name* column and impute the remaining null values with the mean (*max_power_bhp, engine_cc*) and mode (*seats*) of the corresponding brand cars in the code cells below."
   ]
  },
  {
   "cell_type": "code",
   "execution_count": 9,
   "id": "b269268c",
   "metadata": {
    "scrolled": true
   },
   "outputs": [
    {
     "data": {
      "text/plain": [
       "array(['Chevrolet', 'Tata', 'Mahindra', 'Toyota', 'Ford', 'Fiat',\n",
       "       'Volkswagen', 'Maruti', 'Skoda', 'MG', 'Honda', 'Hyundai',\n",
       "       'Datsun', 'BMW', 'Jeep', 'Audi', 'Jaguar', 'Mercedes-Benz',\n",
       "       'Nissan', 'Renault', 'Land', 'Isuzu', 'Force', 'Ambassador',\n",
       "       'Mitsubishi', 'Kia', 'Porsche', 'Lexus', 'Mini', 'Volvo',\n",
       "       'Bentley', 'DC', 'Premier', 'Mercedes-AMG', 'Maserati',\n",
       "       'OpelCorsa', 'Opel', 'ISUZU', 'Peugeot', 'Daewoo', 'Ferrari',\n",
       "       'Ashok', 'Rolls-Royce', 'Lamborghini'], dtype=object)"
      ]
     },
     "execution_count": 9,
     "metadata": {},
     "output_type": "execute_result"
    }
   ],
   "source": [
    "clean_train['brand'] = clean_train['name'].str.split().str[0]\n",
    "clean_train['brand'].unique()"
   ]
  },
  {
   "cell_type": "markdown",
   "id": "aef752b4",
   "metadata": {},
   "source": [
    "Next values in new column *brand* should be changed:\n",
    "* Land -> Land Rover\n",
    "* Mini -> Mini Cooper\n",
    "* OpelCorsa -> Opel\n",
    "* Isuzu -> ISUZU\n",
    "* Ashok -> Ashok Leyland\n",
    "* Mercedes-AMG -> Mercedes-Benz"
   ]
  },
  {
   "cell_type": "code",
   "execution_count": 10,
   "id": "359c32f8",
   "metadata": {},
   "outputs": [
    {
     "data": {
      "text/plain": [
       "array(['Chevrolet', 'Tata', 'Mahindra', 'Toyota', 'Ford', 'Fiat',\n",
       "       'Volkswagen', 'Maruti', 'Skoda', 'MG', 'Honda', 'Hyundai',\n",
       "       'Datsun', 'BMW', 'Jeep', 'Audi', 'Jaguar', 'Mercedes-Benz',\n",
       "       'Nissan', 'Renault', 'Land Rover', 'ISUZU', 'Force', 'Ambassador',\n",
       "       'Mitsubishi', 'Kia', 'Porsche', 'Lexus', 'Mini Cooper', 'Volvo',\n",
       "       'Bentley', 'DC', 'Premier', 'Maserati', 'Opel', 'Peugeot',\n",
       "       'Daewoo', 'Ferrari', 'Ashok Leyland', 'Rolls-Royce', 'Lamborghini'],\n",
       "      dtype=object)"
      ]
     },
     "execution_count": 10,
     "metadata": {},
     "output_type": "execute_result"
    }
   ],
   "source": [
    "replace_dict = {\n",
    "    'Land' : 'Land Rover', \n",
    "    'Mini' : 'Mini Cooper',\n",
    "    'OpelCorsa' : 'Opel',\n",
    "    'Isuzu' : 'ISUZU',\n",
    "    'Ashok' : 'Ashok Leyland',\n",
    "    'Mercedes-AMG' : 'Mercedes-Benz'\n",
    "}\n",
    "clean_train['brand'] = clean_train['brand'].replace(replace_dict)\n",
    "clean_train['brand'].unique()"
   ]
  },
  {
   "cell_type": "code",
   "execution_count": 11,
   "id": "d4e9687b",
   "metadata": {},
   "outputs": [],
   "source": [
    "def fillna_stat_by_col(data, col, fill_method):\n",
    "    df = data.copy()\n",
    "    unique_vals = df.loc[df.isnull().any(axis=1), col].unique()\n",
    "    for val in unique_vals:\n",
    "        if fill_method=='mean':\n",
    "            df[df[col]==val] = df[df[col]==val].fillna(df[df[col]==val].mean(numeric_only=True))\n",
    "        elif fill_method=='mode':\n",
    "            df[df[col]==val] = df[df[col]==val].fillna(df[df[col]==val].mode().iloc[0,:])\n",
    "        else:\n",
    "            print(f\"Error: method '{fill_method}' is incorrect\")\n",
    "            return\n",
    "    \n",
    "    return df"
   ]
  },
  {
   "cell_type": "code",
   "execution_count": 12,
   "id": "c0a523c3",
   "metadata": {},
   "outputs": [
    {
     "name": "stdout",
     "output_type": "stream",
     "text": [
      ">>> Before filling null values\n"
     ]
    },
    {
     "data": {
      "text/html": [
       "<div>\n",
       "<style scoped>\n",
       "    .dataframe tbody tr th:only-of-type {\n",
       "        vertical-align: middle;\n",
       "    }\n",
       "\n",
       "    .dataframe tbody tr th {\n",
       "        vertical-align: top;\n",
       "    }\n",
       "\n",
       "    .dataframe thead th {\n",
       "        text-align: right;\n",
       "    }\n",
       "</style>\n",
       "<table border=\"1\" class=\"dataframe\">\n",
       "  <thead>\n",
       "    <tr style=\"text-align: right;\">\n",
       "      <th></th>\n",
       "      <th>n_nulls</th>\n",
       "      <th>n_rows</th>\n",
       "    </tr>\n",
       "  </thead>\n",
       "  <tbody>\n",
       "    <tr>\n",
       "      <th>0</th>\n",
       "      <td>3</td>\n",
       "      <td>109</td>\n",
       "    </tr>\n",
       "    <tr>\n",
       "      <th>1</th>\n",
       "      <td>2</td>\n",
       "      <td>54</td>\n",
       "    </tr>\n",
       "    <tr>\n",
       "      <th>2</th>\n",
       "      <td>1</td>\n",
       "      <td>190</td>\n",
       "    </tr>\n",
       "    <tr>\n",
       "      <th>3</th>\n",
       "      <td>0</td>\n",
       "      <td>23693</td>\n",
       "    </tr>\n",
       "  </tbody>\n",
       "</table>\n",
       "</div>"
      ],
      "text/plain": [
       "   n_nulls  n_rows\n",
       "0        3     109\n",
       "1        2      54\n",
       "2        1     190\n",
       "3        0   23693"
      ]
     },
     "metadata": {},
     "output_type": "display_data"
    },
    {
     "name": "stdout",
     "output_type": "stream",
     "text": [
      "\n",
      ">>> After filling null values in engine_cc and max_power_bhp\n"
     ]
    },
    {
     "data": {
      "text/html": [
       "<div>\n",
       "<style scoped>\n",
       "    .dataframe tbody tr th:only-of-type {\n",
       "        vertical-align: middle;\n",
       "    }\n",
       "\n",
       "    .dataframe tbody tr th {\n",
       "        vertical-align: top;\n",
       "    }\n",
       "\n",
       "    .dataframe thead th {\n",
       "        text-align: right;\n",
       "    }\n",
       "</style>\n",
       "<table border=\"1\" class=\"dataframe\">\n",
       "  <thead>\n",
       "    <tr style=\"text-align: right;\">\n",
       "      <th></th>\n",
       "      <th>n_nulls</th>\n",
       "      <th>n_rows</th>\n",
       "    </tr>\n",
       "  </thead>\n",
       "  <tbody>\n",
       "    <tr>\n",
       "      <th>0</th>\n",
       "      <td>3</td>\n",
       "      <td>1</td>\n",
       "    </tr>\n",
       "    <tr>\n",
       "      <th>1</th>\n",
       "      <td>1</td>\n",
       "      <td>136</td>\n",
       "    </tr>\n",
       "    <tr>\n",
       "      <th>2</th>\n",
       "      <td>0</td>\n",
       "      <td>23909</td>\n",
       "    </tr>\n",
       "  </tbody>\n",
       "</table>\n",
       "</div>"
      ],
      "text/plain": [
       "   n_nulls  n_rows\n",
       "0        3       1\n",
       "1        1     136\n",
       "2        0   23909"
      ]
     },
     "metadata": {},
     "output_type": "display_data"
    },
    {
     "name": "stdout",
     "output_type": "stream",
     "text": [
      "\n",
      ">>> After filling null values in seats\n"
     ]
    },
    {
     "data": {
      "text/html": [
       "<div>\n",
       "<style scoped>\n",
       "    .dataframe tbody tr th:only-of-type {\n",
       "        vertical-align: middle;\n",
       "    }\n",
       "\n",
       "    .dataframe tbody tr th {\n",
       "        vertical-align: top;\n",
       "    }\n",
       "\n",
       "    .dataframe thead th {\n",
       "        text-align: right;\n",
       "    }\n",
       "</style>\n",
       "<table border=\"1\" class=\"dataframe\">\n",
       "  <thead>\n",
       "    <tr style=\"text-align: right;\">\n",
       "      <th></th>\n",
       "      <th>n_nulls</th>\n",
       "      <th>n_rows</th>\n",
       "    </tr>\n",
       "  </thead>\n",
       "  <tbody>\n",
       "    <tr>\n",
       "      <th>0</th>\n",
       "      <td>3</td>\n",
       "      <td>1</td>\n",
       "    </tr>\n",
       "    <tr>\n",
       "      <th>1</th>\n",
       "      <td>0</td>\n",
       "      <td>24045</td>\n",
       "    </tr>\n",
       "  </tbody>\n",
       "</table>\n",
       "</div>"
      ],
      "text/plain": [
       "   n_nulls  n_rows\n",
       "0        3       1\n",
       "1        0   24045"
      ]
     },
     "metadata": {},
     "output_type": "display_data"
    }
   ],
   "source": [
    "print('>>> Before filling null values')\n",
    "null_counter(clean_train)\n",
    "clean_train.loc[:, clean_train.columns != 'seats'] = fillna_stat_by_col(\n",
    "    clean_train.loc[:, clean_train.columns != 'seats'],\n",
    "    'brand',\n",
    "    'mean'\n",
    ")\n",
    "print('\\n>>> After filling null values in engine_cc and max_power_bhp')\n",
    "null_counter(clean_train)\n",
    "clean_train = fillna_stat_by_col(\n",
    "    clean_train,\n",
    "    'brand',\n",
    "    'mode'\n",
    ")\n",
    "print('\\n>>> After filling null values in seats')\n",
    "null_counter(clean_train)"
   ]
  },
  {
   "cell_type": "markdown",
   "id": "f67f52fb",
   "metadata": {},
   "source": [
    "Let's take a look at the last row with null values."
   ]
  },
  {
   "cell_type": "code",
   "execution_count": 13,
   "id": "988cceeb",
   "metadata": {},
   "outputs": [
    {
     "data": {
      "text/html": [
       "<div>\n",
       "<style scoped>\n",
       "    .dataframe tbody tr th:only-of-type {\n",
       "        vertical-align: middle;\n",
       "    }\n",
       "\n",
       "    .dataframe tbody tr th {\n",
       "        vertical-align: top;\n",
       "    }\n",
       "\n",
       "    .dataframe thead th {\n",
       "        text-align: right;\n",
       "    }\n",
       "</style>\n",
       "<table border=\"1\" class=\"dataframe\">\n",
       "  <thead>\n",
       "    <tr style=\"text-align: right;\">\n",
       "      <th></th>\n",
       "      <th>name</th>\n",
       "      <th>year</th>\n",
       "      <th>selling_price_inr</th>\n",
       "      <th>km_driven</th>\n",
       "      <th>fuel</th>\n",
       "      <th>seller_type</th>\n",
       "      <th>transmission</th>\n",
       "      <th>owner</th>\n",
       "      <th>seats</th>\n",
       "      <th>engine_cc</th>\n",
       "      <th>max_power_bhp</th>\n",
       "      <th>brand</th>\n",
       "    </tr>\n",
       "  </thead>\n",
       "  <tbody>\n",
       "    <tr>\n",
       "      <th>13325</th>\n",
       "      <td>Peugeot 309 GLD</td>\n",
       "      <td>1997.0</td>\n",
       "      <td>57000.0</td>\n",
       "      <td>110000.0</td>\n",
       "      <td>Diesel</td>\n",
       "      <td>Individual</td>\n",
       "      <td>Manual</td>\n",
       "      <td>Third Owner</td>\n",
       "      <td>NaN</td>\n",
       "      <td>NaN</td>\n",
       "      <td>NaN</td>\n",
       "      <td>Peugeot</td>\n",
       "    </tr>\n",
       "  </tbody>\n",
       "</table>\n",
       "</div>"
      ],
      "text/plain": [
       "                  name    year  selling_price_inr  km_driven    fuel  \\\n",
       "13325  Peugeot 309 GLD  1997.0            57000.0   110000.0  Diesel   \n",
       "\n",
       "      seller_type transmission        owner seats  engine_cc  max_power_bhp  \\\n",
       "13325  Individual       Manual  Third Owner   NaN        NaN            NaN   \n",
       "\n",
       "         brand  \n",
       "13325  Peugeot  "
      ]
     },
     "execution_count": 13,
     "metadata": {},
     "output_type": "execute_result"
    }
   ],
   "source": [
    "clean_train.loc[clean_train.isnull().any(axis=1), :]"
   ]
  },
  {
   "cell_type": "markdown",
   "id": "52807c41",
   "metadata": {},
   "source": [
    "We will fill these null values with information from [ultimatespecs.com](https://www.ultimatespecs.com/car-specs/Peugeot/1974/Peugeot-309-GLD---GRD.html)."
   ]
  },
  {
   "cell_type": "code",
   "execution_count": 14,
   "id": "8d41c894",
   "metadata": {},
   "outputs": [
    {
     "data": {
      "text/html": [
       "<div>\n",
       "<style scoped>\n",
       "    .dataframe tbody tr th:only-of-type {\n",
       "        vertical-align: middle;\n",
       "    }\n",
       "\n",
       "    .dataframe tbody tr th {\n",
       "        vertical-align: top;\n",
       "    }\n",
       "\n",
       "    .dataframe thead th {\n",
       "        text-align: right;\n",
       "    }\n",
       "</style>\n",
       "<table border=\"1\" class=\"dataframe\">\n",
       "  <thead>\n",
       "    <tr style=\"text-align: right;\">\n",
       "      <th></th>\n",
       "      <th>n_nulls</th>\n",
       "      <th>n_rows</th>\n",
       "    </tr>\n",
       "  </thead>\n",
       "  <tbody>\n",
       "    <tr>\n",
       "      <th>0</th>\n",
       "      <td>0</td>\n",
       "      <td>24046</td>\n",
       "    </tr>\n",
       "  </tbody>\n",
       "</table>\n",
       "</div>"
      ],
      "text/plain": [
       "   n_nulls  n_rows\n",
       "0        0   24046"
      ]
     },
     "metadata": {},
     "output_type": "display_data"
    }
   ],
   "source": [
    "clean_train.loc[clean_train.isnull().any(axis=1), ['seats', 'engine_cc', 'max_power_bhp']] = ['5', 1905, 64]\n",
    "null_counter(clean_train)"
   ]
  },
  {
   "cell_type": "markdown",
   "id": "eb8cca72",
   "metadata": {},
   "source": [
    "We don't have null values left. Let's drop the *name* column since we won't need it anymore and move to exploratory data analysis."
   ]
  },
  {
   "cell_type": "code",
   "execution_count": 15,
   "id": "f28344f0",
   "metadata": {},
   "outputs": [
    {
     "data": {
      "text/plain": [
       "Index(['year', 'selling_price_inr', 'km_driven', 'fuel', 'seller_type',\n",
       "       'transmission', 'owner', 'seats', 'engine_cc', 'max_power_bhp',\n",
       "       'brand'],\n",
       "      dtype='object')"
      ]
     },
     "execution_count": 15,
     "metadata": {},
     "output_type": "execute_result"
    }
   ],
   "source": [
    "fe_train = clean_train.drop(columns='name')\n",
    "fe_train.columns"
   ]
  },
  {
   "cell_type": "markdown",
   "id": "f5b580ac",
   "metadata": {},
   "source": [
    "# Exploratory data analysis\n",
    "In this section, we will explore data and find patterns, which may be useful for feature engineering later. Since the goal of the project is to build the car price prediction model, the main purpose of this chapter is to find relations between features and the target column (*selling_price_inr*).\n",
    "\n",
    "## *year* and *transmission* features\n",
    "Let's start by plotting the scatter plot of *year* and *selling_price_inr* with *transmission* marked by color."
   ]
  },
  {
   "cell_type": "code",
   "execution_count": 16,
   "id": "5eb751f5",
   "metadata": {
    "scrolled": false
   },
   "outputs": [
    {
     "data": {
      "image/png": "[encoded data removed]",
      "text/plain": [
       "<Figure size 1080x720 with 1 Axes>"
      ]
     },
     "metadata": {
      "needs_background": "light"
     },
     "output_type": "display_data"
    }
   ],
   "source": [
    "fig, scatter = plt.subplots(figsize = (15,10))\n",
    "scatter = sns.scatterplot(data=fe_train, x=\"year\", y=\"selling_price_inr\", hue=\"transmission\")"
   ]
  },
  {
   "cell_type": "markdown",
   "id": "d380aa36",
   "metadata": {},
   "source": [
    "In general, the mean and deviation of car prices increase with each year, and cars with automatic transmission tend to be more expensive.\n",
    "## *km_driven* and *seller_type* features\n",
    "The visualization below shows the relation between *km_driven, seller_type* and *selling_price_inr* columns."
   ]
  },
  {
   "cell_type": "code",
   "execution_count": 17,
   "id": "d3c5e675",
   "metadata": {
    "scrolled": false
   },
   "outputs": [
    {
     "data": {
      "image/png": "[encoded data removed]",
      "text/plain": [
       "<Figure size 1080x720 with 1 Axes>"
      ]
     },
     "metadata": {
      "needs_background": "light"
     },
     "output_type": "display_data"
    }
   ],
   "source": [
    "fig, scatter = plt.subplots(figsize = (15,10))\n",
    "scatter = sns.scatterplot(data=fe_train, x=\"km_driven\", y=\"selling_price_inr\",hue=\"seller_type\", palette=\"deep\")"
   ]
  },
  {
   "cell_type": "markdown",
   "id": "e977808c",
   "metadata": {},
   "source": [
    "As can be seen, selling prices tend to go down with the rise of *km_driven*. Also, cars with 200000-400000 km driven are usually sold by individuals, but any clear pattern between *seller_type* and *selling_price_inr* columns is not observed.\n",
    "\n",
    "## *engine_cc* and *max_power_bhp* features\n",
    "The scatter plots below represent dependency between *engine_cc, max_power_bhp* and *selling_price_inr*."
   ]
  },
  {
   "cell_type": "code",
   "execution_count": 18,
   "id": "9f2d699e",
   "metadata": {},
   "outputs": [],
   "source": [
    "def plot_col_signif(df, feat_cols, targ_col, n_rows=1, n_cols=1):\n",
    "    fig, axes = plt.subplots(nrows = n_rows, ncols = n_cols, figsize=(6*n_cols,4*n_rows), squeeze=False, constrained_layout = True)\n",
    "\n",
    "    for i in range(n_rows):\n",
    "        for j in range(n_cols):\n",
    "            try:\n",
    "                feat_col = feat_cols[i*n_cols+j]\n",
    "            except:\n",
    "                plt.show()\n",
    "                return\n",
    "            \n",
    "            pears_corr = df.corr()[feat_col][targ_col]\n",
    "            spear_corr = df.corr(method='spearman')[feat_col][targ_col]\n",
    "\n",
    "            axes[i,j].scatter(df[feat_col], df[targ_col])\n",
    "            axes[i,j].set_xlabel('feature')\n",
    "            axes[i,j].set_ylabel('target')\n",
    "            axes[i,j].set_title(f'Feature: {feat_col}\\nPearson\\'s r = {pears_corr:.2f}\\n Spearman\\'s ρ = {spear_corr:.2f}')\n",
    "            \n",
    "    plt.show()"
   ]
  },
  {
   "cell_type": "code",
   "execution_count": 19,
   "id": "7c28bcee",
   "metadata": {},
   "outputs": [
    {
     "data": {
      "image/png": "[encoded data removed]",
      "text/plain": [
       "<Figure size 864x288 with 2 Axes>"
      ]
     },
     "metadata": {
      "needs_background": "light"
     },
     "output_type": "display_data"
    }
   ],
   "source": [
    "plot_col_signif(fe_train, ['engine_cc', 'max_power_bhp'], 'selling_price_inr', 1, 2)"
   ]
  },
  {
   "cell_type": "markdown",
   "id": "c5d225bf",
   "metadata": {},
   "source": [
    "As it is observed, both features have a moderate-high correlation with the selling price.\n",
    "\n",
    "## *brand* feature\n",
    "We'll visualize the mean selling price grouped by *brand* values below."
   ]
  },
  {
   "cell_type": "code",
   "execution_count": 20,
   "id": "d965e5d3",
   "metadata": {},
   "outputs": [],
   "source": [
    "def mean_per_col_barh(df, col):\n",
    "    mean_price_per_col = df.groupby([col]).mean()['selling_price_inr'].sort_values(ascending=False)\n",
    "\n",
    "    fig, barplot = plt.subplots(figsize = (15,10))\n",
    "    barplot = sns.barplot(x=mean_price_per_col.values, y=mean_price_per_col.index, orient='h', palette=\"viridis\")\n",
    "    barplot.bar_label(barplot.containers[0])\n",
    "    barplot.spines['top'].set_visible(False)\n",
    "    barplot.spines['right'].set_visible(False)\n",
    "    barplot.spines['bottom'].set_visible(False)\n",
    "    barplot.get_xaxis().set_ticks([])\n",
    "    barplot.set_title(f'Mean car price for each {col}')\n",
    "    barplot.set_ylabel('')\n",
    "    plt.show()"
   ]
  },
  {
   "cell_type": "code",
   "execution_count": 21,
   "id": "6059bcbe",
   "metadata": {},
   "outputs": [
    {
     "data": {
      "image/png": "[encoded data removed]",
      "text/plain": [
       "<Figure size 1080x720 with 1 Axes>"
      ]
     },
     "metadata": {
      "needs_background": "light"
     },
     "output_type": "display_data"
    }
   ],
   "source": [
    "mean_per_col_barh(fe_train, 'brand')"
   ]
  },
  {
   "cell_type": "markdown",
   "id": "2ee96362",
   "metadata": {},
   "source": [
    "Brand influences the price, and the chart above confirms that it is true for our data.\n",
    "## *seats, fuel, owner*  features\n",
    "The box plots below show the distribution of selling price values grouped by *seats, fuel* and *owner*."
   ]
  },
  {
   "cell_type": "code",
   "execution_count": 22,
   "id": "0c3d42b2",
   "metadata": {},
   "outputs": [
    {
     "data": {
      "image/png": "[encoded data removed]",
      "text/plain": [
       "<Figure size 1080x720 with 1 Axes>"
      ]
     },
     "metadata": {
      "needs_background": "light"
     },
     "output_type": "display_data"
    }
   ],
   "source": [
    "fig, boxplot = plt.subplots(figsize = (15,10))\n",
    "boxplot = sns.boxplot(\n",
    "    data=fe_train,\n",
    "    x='selling_price_inr', \n",
    "    y='seats',\n",
    "    orient='h',\n",
    "    palette=\"viridis\"\n",
    ")"
   ]
  },
  {
   "cell_type": "markdown",
   "id": "dd0655f7",
   "metadata": {},
   "source": [
    "It can be seen that selling price values of cars with 2, 4, 5 and 7 seats have a big deviation, while others have price < 2,500,000 in most cases."
   ]
  },
  {
   "cell_type": "code",
   "execution_count": 23,
   "id": "df9e8c15",
   "metadata": {},
   "outputs": [
    {
     "data": {
      "image/png": "[encoded data removed]",
      "text/plain": [
       "<Figure size 1080x720 with 1 Axes>"
      ]
     },
     "metadata": {
      "needs_background": "light"
     },
     "output_type": "display_data"
    }
   ],
   "source": [
    "fig, boxplot = plt.subplots(figsize = (15,10))\n",
    "boxplot = sns.boxplot(\n",
    "    data=fe_train,\n",
    "    x='selling_price_inr', \n",
    "    y='fuel',\n",
    "    orient='h',\n",
    "    palette=\"viridis\"\n",
    ")"
   ]
  },
  {
   "cell_type": "markdown",
   "id": "c443a095",
   "metadata": {},
   "source": [
    "The graph above reveals that selling prices of cars with petrol and diesel fuel also have a big deviation, while others have price < 2,000,000."
   ]
  },
  {
   "cell_type": "code",
   "execution_count": 24,
   "id": "2d79991a",
   "metadata": {},
   "outputs": [
    {
     "data": {
      "image/png": "[encoded data removed]",
      "text/plain": [
       "<Figure size 1080x720 with 1 Axes>"
      ]
     },
     "metadata": {
      "needs_background": "light"
     },
     "output_type": "display_data"
    }
   ],
   "source": [
    "fig, boxplot = plt.subplots(figsize = (15,10))\n",
    "boxplot = sns.boxplot(\n",
    "    data=fe_train,\n",
    "    x='selling_price_inr', \n",
    "    y='owner',\n",
    "    orient='h',\n",
    "    palette=\"viridis\"\n",
    ")"
   ]
  },
  {
   "cell_type": "markdown",
   "id": "b35a2fcf",
   "metadata": {},
   "source": [
    "As was expected, the price of a car tends to decrease with each owner. Also, there is a huge difference in the deviation of the selling price between the first and second owners.\n",
    "\n",
    "## Conclusion\n",
    "As a result of exploratory data analysis, we find out that:\n",
    "* selling price mean and deviation have a positive correlation with the **year** column;\n",
    "* cars with automatic **transmission** tend to be more expensive;\n",
    "* car price mean and deviation tend to go down with the rise of the **km_driven** column;\n",
    "* any clear pattern between **seller_type** and *selling_price_inr* columns is not observed;\n",
    "* **engine_cc** has a moderate correlation with the selling price;\n",
    "* **max_power_bhp** has high correlation with car price;\n",
    "* prices of cars with 2, 4, 5 and 7 **seats** have big deviation, while others have price < 2,500,000 in most cases;\n",
    "* selling prices of cars with petrol and diesel **fuel** also have big deviation, while others have price < 2,000,000;\n",
    "* the price of a car tends to decrease with each **owner**, and there is a huge difference in the deviation of the selling price between the first and second owner.\n",
    "\n",
    "# Feature Engineering\n",
    "Let's use the knowledge we gained during exploratory analysis to create new features."
   ]
  },
  {
   "cell_type": "code",
   "execution_count": 25,
   "id": "c80511d7",
   "metadata": {
    "scrolled": true
   },
   "outputs": [
    {
     "data": {
      "text/html": [
       "<div>\n",
       "<style scoped>\n",
       "    .dataframe tbody tr th:only-of-type {\n",
       "        vertical-align: middle;\n",
       "    }\n",
       "\n",
       "    .dataframe tbody tr th {\n",
       "        vertical-align: top;\n",
       "    }\n",
       "\n",
       "    .dataframe thead th {\n",
       "        text-align: right;\n",
       "    }\n",
       "</style>\n",
       "<table border=\"1\" class=\"dataframe\">\n",
       "  <thead>\n",
       "    <tr style=\"text-align: right;\">\n",
       "      <th></th>\n",
       "      <th>year</th>\n",
       "      <th>selling_price_inr</th>\n",
       "      <th>km_driven</th>\n",
       "      <th>fuel</th>\n",
       "      <th>seller_type</th>\n",
       "      <th>transmission</th>\n",
       "      <th>owner</th>\n",
       "      <th>seats</th>\n",
       "      <th>engine_cc</th>\n",
       "      <th>max_power_bhp</th>\n",
       "      <th>brand</th>\n",
       "    </tr>\n",
       "  </thead>\n",
       "  <tbody>\n",
       "    <tr>\n",
       "      <th>0</th>\n",
       "      <td>2010.0</td>\n",
       "      <td>135000.0</td>\n",
       "      <td>49700.0</td>\n",
       "      <td>Petrol</td>\n",
       "      <td>Individual</td>\n",
       "      <td>Manual</td>\n",
       "      <td>First Owner</td>\n",
       "      <td>5</td>\n",
       "      <td>1199.0</td>\n",
       "      <td>79.40</td>\n",
       "      <td>Chevrolet</td>\n",
       "    </tr>\n",
       "    <tr>\n",
       "      <th>1</th>\n",
       "      <td>2015.0</td>\n",
       "      <td>925000.0</td>\n",
       "      <td>60000.0</td>\n",
       "      <td>Diesel</td>\n",
       "      <td>Individual</td>\n",
       "      <td>Manual</td>\n",
       "      <td>First Owner</td>\n",
       "      <td>7</td>\n",
       "      <td>2179.0</td>\n",
       "      <td>138.10</td>\n",
       "      <td>Tata</td>\n",
       "    </tr>\n",
       "    <tr>\n",
       "      <th>2</th>\n",
       "      <td>2016.0</td>\n",
       "      <td>1275000.0</td>\n",
       "      <td>56000.0</td>\n",
       "      <td>Diesel</td>\n",
       "      <td>Dealer</td>\n",
       "      <td>Automatic</td>\n",
       "      <td>First Owner</td>\n",
       "      <td>7</td>\n",
       "      <td>2179.0</td>\n",
       "      <td>140.00</td>\n",
       "      <td>Mahindra</td>\n",
       "    </tr>\n",
       "    <tr>\n",
       "      <th>3</th>\n",
       "      <td>2015.0</td>\n",
       "      <td>950000.0</td>\n",
       "      <td>190000.0</td>\n",
       "      <td>Diesel</td>\n",
       "      <td>Individual</td>\n",
       "      <td>Manual</td>\n",
       "      <td>Second Owner</td>\n",
       "      <td>7</td>\n",
       "      <td>2494.0</td>\n",
       "      <td>100.60</td>\n",
       "      <td>Toyota</td>\n",
       "    </tr>\n",
       "    <tr>\n",
       "      <th>4</th>\n",
       "      <td>2018.0</td>\n",
       "      <td>860000.0</td>\n",
       "      <td>40000.0</td>\n",
       "      <td>Petrol</td>\n",
       "      <td>Individual</td>\n",
       "      <td>Manual</td>\n",
       "      <td>First Owner</td>\n",
       "      <td>5</td>\n",
       "      <td>1497.0</td>\n",
       "      <td>121.31</td>\n",
       "      <td>Ford</td>\n",
       "    </tr>\n",
       "  </tbody>\n",
       "</table>\n",
       "</div>"
      ],
      "text/plain": [
       "     year  selling_price_inr  km_driven    fuel seller_type transmission  \\\n",
       "0  2010.0           135000.0    49700.0  Petrol  Individual       Manual   \n",
       "1  2015.0           925000.0    60000.0  Diesel  Individual       Manual   \n",
       "2  2016.0          1275000.0    56000.0  Diesel      Dealer    Automatic   \n",
       "3  2015.0           950000.0   190000.0  Diesel  Individual       Manual   \n",
       "4  2018.0           860000.0    40000.0  Petrol  Individual       Manual   \n",
       "\n",
       "          owner seats  engine_cc  max_power_bhp      brand  \n",
       "0   First Owner     5     1199.0          79.40  Chevrolet  \n",
       "1   First Owner     7     2179.0         138.10       Tata  \n",
       "2   First Owner     7     2179.0         140.00   Mahindra  \n",
       "3  Second Owner     7     2494.0         100.60     Toyota  \n",
       "4   First Owner     5     1497.0         121.31       Ford  "
      ]
     },
     "execution_count": 25,
     "metadata": {},
     "output_type": "execute_result"
    }
   ],
   "source": [
    "fe_train.head()"
   ]
  },
  {
   "cell_type": "markdown",
   "id": "9c2e2940",
   "metadata": {},
   "source": [
    "The *fuel, seats, owner* values have similar patterns with selling price, so we will analogically create new *..._flg* fields:\n",
    "* *fuel_flg* = 1 if fuel is diesel or petrol, 0 in other cases;\n",
    "* *seats_flg* = 1 if car has 2, 4, 5 or 7 seats, 0 in other cases;\n",
    "* *owner_flg* = 1 if car owner is first, 0 in other cases.\n",
    "\n",
    "*seller_type* and *transmission* have only 2 unique values, so we will create new *..._flg* fields by replacing them with 0 and 1."
   ]
  },
  {
   "cell_type": "code",
   "execution_count": 26,
   "id": "3fe08d35",
   "metadata": {},
   "outputs": [],
   "source": [
    "def col_to_col_flg(data, col, vals_1):\n",
    "    df = data.copy()\n",
    "    df[col+'_flg'] = df.apply(lambda row: int(row[col] in vals_1), axis=1)\n",
    "    print(f'>>> Check correctness of {col}_flg <<<\\n')\n",
    "    print(df[col+'_flg'].value_counts(), '\\n')\n",
    "    print(df[col].value_counts(), '\\n')\n",
    "    return df"
   ]
  },
  {
   "cell_type": "code",
   "execution_count": 27,
   "id": "7a7a3f7d",
   "metadata": {
    "scrolled": true
   },
   "outputs": [
    {
     "name": "stdout",
     "output_type": "stream",
     "text": [
      ">>> Check correctness of fuel_flg <<<\n",
      "\n",
      "1    23605\n",
      "0      441\n",
      "Name: fuel_flg, dtype: int64 \n",
      "\n",
      "Diesel      12178\n",
      "Petrol      11427\n",
      "CNG           336\n",
      "LPG            96\n",
      "Electric        9\n",
      "Name: fuel, dtype: int64 \n",
      "\n",
      ">>> Check correctness of seats_flg <<<\n",
      "\n",
      "1    23084\n",
      "0      962\n",
      "Name: seats_flg, dtype: int64 \n",
      "\n",
      "5     19727\n",
      "7      3021\n",
      "8       610\n",
      "4       312\n",
      "6       180\n",
      "9       129\n",
      "10       41\n",
      "2        24\n",
      "14        2\n",
      "Name: seats, dtype: int64 \n",
      "\n",
      ">>> Check correctness of owner_flg <<<\n",
      "\n",
      "1    21638\n",
      "0     2408\n",
      "Name: owner_flg, dtype: int64 \n",
      "\n",
      "First Owner             21638\n",
      "Second Owner             1771\n",
      "Third Owner               483\n",
      "Fourth & Above Owner      154\n",
      "Name: owner, dtype: int64 \n",
      "\n",
      ">>> Check correctness of seller_type_flg <<<\n",
      "\n",
      "1    12568\n",
      "0    11478\n",
      "Name: seller_type_flg, dtype: int64 \n",
      "\n",
      "Individual    12568\n",
      "Dealer        11478\n",
      "Name: seller_type, dtype: int64 \n",
      "\n",
      ">>> Check correctness of transmission_flg <<<\n",
      "\n",
      "1    20023\n",
      "0     4023\n",
      "Name: transmission_flg, dtype: int64 \n",
      "\n",
      "Manual       20023\n",
      "Automatic     4023\n",
      "Name: transmission, dtype: int64 \n",
      "\n"
     ]
    }
   ],
   "source": [
    "cols_vals_1_dict = {\n",
    "    'fuel': ['Diesel', 'Petrol'],\n",
    "    'seats': ['2', '4', '5', '7'],\n",
    "    'owner': ['First Owner'],\n",
    "    'seller_type': ['Individual'],\n",
    "    'transmission': ['Manual']\n",
    "}\n",
    "\n",
    "for col, vals_1 in cols_vals_1_dict.items():\n",
    "    fe_train = col_to_col_flg(fe_train, col, vals_1)"
   ]
  },
  {
   "cell_type": "markdown",
   "id": "8131c2e7",
   "metadata": {},
   "source": [
    "The *brand* column has valuable information for our model but contains a lot of unique values, so using it without any data encoding may not be the best approach. We will create next new fields based on this column:\n",
    "* brand_top_half = 1 if a brand is in the top half means of selling price grouped by brand, 0 in other cases;\n",
    "* brand_top_third = 1 if a brand is in the top third means of selling price grouped by brand, 0 in other cases;\n",
    "* brand_bottom_third = 1 if a brand is in the bottom third means of selling price grouped by brand, 0 in other cases."
   ]
  },
  {
   "cell_type": "code",
   "execution_count": 28,
   "id": "38df7662",
   "metadata": {
    "scrolled": false
   },
   "outputs": [
    {
     "data": {
      "text/html": [
       "<div>\n",
       "<style scoped>\n",
       "    .dataframe tbody tr th:only-of-type {\n",
       "        vertical-align: middle;\n",
       "    }\n",
       "\n",
       "    .dataframe tbody tr th {\n",
       "        vertical-align: top;\n",
       "    }\n",
       "\n",
       "    .dataframe thead th {\n",
       "        text-align: right;\n",
       "    }\n",
       "</style>\n",
       "<table border=\"1\" class=\"dataframe\">\n",
       "  <thead>\n",
       "    <tr style=\"text-align: right;\">\n",
       "      <th></th>\n",
       "      <th>year</th>\n",
       "      <th>selling_price_inr</th>\n",
       "      <th>km_driven</th>\n",
       "      <th>fuel</th>\n",
       "      <th>seller_type</th>\n",
       "      <th>transmission</th>\n",
       "      <th>owner</th>\n",
       "      <th>seats</th>\n",
       "      <th>engine_cc</th>\n",
       "      <th>max_power_bhp</th>\n",
       "      <th>brand</th>\n",
       "      <th>fuel_flg</th>\n",
       "      <th>seats_flg</th>\n",
       "      <th>owner_flg</th>\n",
       "      <th>seller_type_flg</th>\n",
       "      <th>transmission_flg</th>\n",
       "      <th>brand_top_half</th>\n",
       "      <th>brand_top_third</th>\n",
       "      <th>brand_bottom_third</th>\n",
       "    </tr>\n",
       "  </thead>\n",
       "  <tbody>\n",
       "    <tr>\n",
       "      <th>0</th>\n",
       "      <td>2010.0</td>\n",
       "      <td>135000.0</td>\n",
       "      <td>49700.0</td>\n",
       "      <td>Petrol</td>\n",
       "      <td>Individual</td>\n",
       "      <td>Manual</td>\n",
       "      <td>First Owner</td>\n",
       "      <td>5</td>\n",
       "      <td>1199.0</td>\n",
       "      <td>79.40</td>\n",
       "      <td>Chevrolet</td>\n",
       "      <td>1</td>\n",
       "      <td>1</td>\n",
       "      <td>1</td>\n",
       "      <td>1</td>\n",
       "      <td>1</td>\n",
       "      <td>0</td>\n",
       "      <td>0</td>\n",
       "      <td>1</td>\n",
       "    </tr>\n",
       "    <tr>\n",
       "      <th>1</th>\n",
       "      <td>2015.0</td>\n",
       "      <td>925000.0</td>\n",
       "      <td>60000.0</td>\n",
       "      <td>Diesel</td>\n",
       "      <td>Individual</td>\n",
       "      <td>Manual</td>\n",
       "      <td>First Owner</td>\n",
       "      <td>7</td>\n",
       "      <td>2179.0</td>\n",
       "      <td>138.10</td>\n",
       "      <td>Tata</td>\n",
       "      <td>1</td>\n",
       "      <td>1</td>\n",
       "      <td>1</td>\n",
       "      <td>1</td>\n",
       "      <td>1</td>\n",
       "      <td>0</td>\n",
       "      <td>0</td>\n",
       "      <td>1</td>\n",
       "    </tr>\n",
       "    <tr>\n",
       "      <th>2</th>\n",
       "      <td>2016.0</td>\n",
       "      <td>1275000.0</td>\n",
       "      <td>56000.0</td>\n",
       "      <td>Diesel</td>\n",
       "      <td>Dealer</td>\n",
       "      <td>Automatic</td>\n",
       "      <td>First Owner</td>\n",
       "      <td>7</td>\n",
       "      <td>2179.0</td>\n",
       "      <td>140.00</td>\n",
       "      <td>Mahindra</td>\n",
       "      <td>1</td>\n",
       "      <td>1</td>\n",
       "      <td>1</td>\n",
       "      <td>0</td>\n",
       "      <td>0</td>\n",
       "      <td>0</td>\n",
       "      <td>0</td>\n",
       "      <td>0</td>\n",
       "    </tr>\n",
       "    <tr>\n",
       "      <th>3</th>\n",
       "      <td>2015.0</td>\n",
       "      <td>950000.0</td>\n",
       "      <td>190000.0</td>\n",
       "      <td>Diesel</td>\n",
       "      <td>Individual</td>\n",
       "      <td>Manual</td>\n",
       "      <td>Second Owner</td>\n",
       "      <td>7</td>\n",
       "      <td>2494.0</td>\n",
       "      <td>100.60</td>\n",
       "      <td>Toyota</td>\n",
       "      <td>1</td>\n",
       "      <td>1</td>\n",
       "      <td>0</td>\n",
       "      <td>1</td>\n",
       "      <td>1</td>\n",
       "      <td>1</td>\n",
       "      <td>0</td>\n",
       "      <td>0</td>\n",
       "    </tr>\n",
       "    <tr>\n",
       "      <th>4</th>\n",
       "      <td>2018.0</td>\n",
       "      <td>860000.0</td>\n",
       "      <td>40000.0</td>\n",
       "      <td>Petrol</td>\n",
       "      <td>Individual</td>\n",
       "      <td>Manual</td>\n",
       "      <td>First Owner</td>\n",
       "      <td>5</td>\n",
       "      <td>1497.0</td>\n",
       "      <td>121.31</td>\n",
       "      <td>Ford</td>\n",
       "      <td>1</td>\n",
       "      <td>1</td>\n",
       "      <td>1</td>\n",
       "      <td>1</td>\n",
       "      <td>1</td>\n",
       "      <td>0</td>\n",
       "      <td>0</td>\n",
       "      <td>0</td>\n",
       "    </tr>\n",
       "  </tbody>\n",
       "</table>\n",
       "</div>"
      ],
      "text/plain": [
       "     year  selling_price_inr  km_driven    fuel seller_type transmission  \\\n",
       "0  2010.0           135000.0    49700.0  Petrol  Individual       Manual   \n",
       "1  2015.0           925000.0    60000.0  Diesel  Individual       Manual   \n",
       "2  2016.0          1275000.0    56000.0  Diesel      Dealer    Automatic   \n",
       "3  2015.0           950000.0   190000.0  Diesel  Individual       Manual   \n",
       "4  2018.0           860000.0    40000.0  Petrol  Individual       Manual   \n",
       "\n",
       "          owner seats  engine_cc  max_power_bhp      brand  fuel_flg  \\\n",
       "0   First Owner     5     1199.0          79.40  Chevrolet         1   \n",
       "1   First Owner     7     2179.0         138.10       Tata         1   \n",
       "2   First Owner     7     2179.0         140.00   Mahindra         1   \n",
       "3  Second Owner     7     2494.0         100.60     Toyota         1   \n",
       "4   First Owner     5     1497.0         121.31       Ford         1   \n",
       "\n",
       "   seats_flg  owner_flg  seller_type_flg  transmission_flg  brand_top_half  \\\n",
       "0          1          1                1                 1               0   \n",
       "1          1          1                1                 1               0   \n",
       "2          1          1                0                 0               0   \n",
       "3          1          0                1                 1               1   \n",
       "4          1          1                1                 1               0   \n",
       "\n",
       "   brand_top_third  brand_bottom_third  \n",
       "0                0                   1  \n",
       "1                0                   1  \n",
       "2                0                   0  \n",
       "3                0                   0  \n",
       "4                0                   0  "
      ]
     },
     "execution_count": 28,
     "metadata": {},
     "output_type": "execute_result"
    }
   ],
   "source": [
    "mean_price_per_brand = fe_train.groupby(['brand']).mean()['selling_price_inr'].sort_values(ascending=False)\n",
    "n = len(mean_price_per_brand)\n",
    "\n",
    "fe_train['brand_top_half'] = fe_train.apply(lambda row: int(row['brand'] in mean_price_per_brand.iloc[:n//2].index), axis=1)\n",
    "fe_train['brand_top_third'] = fe_train.apply(lambda row: int(row['brand'] in mean_price_per_brand.iloc[:n//3].index), axis=1)\n",
    "fe_train['brand_bottom_third'] = fe_train.apply(lambda row: int(row['brand'] in mean_price_per_brand.iloc[-n//3:].index), axis=1)\n",
    "\n",
    "fe_train.head()"
   ]
  },
  {
   "cell_type": "markdown",
   "id": "6bf450b4",
   "metadata": {},
   "source": [
    "As the last step of this section, let's drop categorical columns and split the train dataset into features (X) and target (y)."
   ]
  },
  {
   "cell_type": "code",
   "execution_count": 29,
   "id": "e1016b86",
   "metadata": {
    "scrolled": true
   },
   "outputs": [
    {
     "data": {
      "text/html": [
       "<div>\n",
       "<style scoped>\n",
       "    .dataframe tbody tr th:only-of-type {\n",
       "        vertical-align: middle;\n",
       "    }\n",
       "\n",
       "    .dataframe tbody tr th {\n",
       "        vertical-align: top;\n",
       "    }\n",
       "\n",
       "    .dataframe thead th {\n",
       "        text-align: right;\n",
       "    }\n",
       "</style>\n",
       "<table border=\"1\" class=\"dataframe\">\n",
       "  <thead>\n",
       "    <tr style=\"text-align: right;\">\n",
       "      <th></th>\n",
       "      <th>year</th>\n",
       "      <th>km_driven</th>\n",
       "      <th>engine_cc</th>\n",
       "      <th>max_power_bhp</th>\n",
       "      <th>fuel_flg</th>\n",
       "      <th>seats_flg</th>\n",
       "      <th>owner_flg</th>\n",
       "      <th>seller_type_flg</th>\n",
       "      <th>transmission_flg</th>\n",
       "      <th>brand_top_half</th>\n",
       "      <th>brand_top_third</th>\n",
       "      <th>brand_bottom_third</th>\n",
       "    </tr>\n",
       "  </thead>\n",
       "  <tbody>\n",
       "    <tr>\n",
       "      <th>0</th>\n",
       "      <td>2010.0</td>\n",
       "      <td>49700.0</td>\n",
       "      <td>1199.0</td>\n",
       "      <td>79.40</td>\n",
       "      <td>1</td>\n",
       "      <td>1</td>\n",
       "      <td>1</td>\n",
       "      <td>1</td>\n",
       "      <td>1</td>\n",
       "      <td>0</td>\n",
       "      <td>0</td>\n",
       "      <td>1</td>\n",
       "    </tr>\n",
       "    <tr>\n",
       "      <th>1</th>\n",
       "      <td>2015.0</td>\n",
       "      <td>60000.0</td>\n",
       "      <td>2179.0</td>\n",
       "      <td>138.10</td>\n",
       "      <td>1</td>\n",
       "      <td>1</td>\n",
       "      <td>1</td>\n",
       "      <td>1</td>\n",
       "      <td>1</td>\n",
       "      <td>0</td>\n",
       "      <td>0</td>\n",
       "      <td>1</td>\n",
       "    </tr>\n",
       "    <tr>\n",
       "      <th>2</th>\n",
       "      <td>2016.0</td>\n",
       "      <td>56000.0</td>\n",
       "      <td>2179.0</td>\n",
       "      <td>140.00</td>\n",
       "      <td>1</td>\n",
       "      <td>1</td>\n",
       "      <td>1</td>\n",
       "      <td>0</td>\n",
       "      <td>0</td>\n",
       "      <td>0</td>\n",
       "      <td>0</td>\n",
       "      <td>0</td>\n",
       "    </tr>\n",
       "    <tr>\n",
       "      <th>3</th>\n",
       "      <td>2015.0</td>\n",
       "      <td>190000.0</td>\n",
       "      <td>2494.0</td>\n",
       "      <td>100.60</td>\n",
       "      <td>1</td>\n",
       "      <td>1</td>\n",
       "      <td>0</td>\n",
       "      <td>1</td>\n",
       "      <td>1</td>\n",
       "      <td>1</td>\n",
       "      <td>0</td>\n",
       "      <td>0</td>\n",
       "    </tr>\n",
       "    <tr>\n",
       "      <th>4</th>\n",
       "      <td>2018.0</td>\n",
       "      <td>40000.0</td>\n",
       "      <td>1497.0</td>\n",
       "      <td>121.31</td>\n",
       "      <td>1</td>\n",
       "      <td>1</td>\n",
       "      <td>1</td>\n",
       "      <td>1</td>\n",
       "      <td>1</td>\n",
       "      <td>0</td>\n",
       "      <td>0</td>\n",
       "      <td>0</td>\n",
       "    </tr>\n",
       "  </tbody>\n",
       "</table>\n",
       "</div>"
      ],
      "text/plain": [
       "     year  km_driven  engine_cc  max_power_bhp  fuel_flg  seats_flg  \\\n",
       "0  2010.0    49700.0     1199.0          79.40         1          1   \n",
       "1  2015.0    60000.0     2179.0         138.10         1          1   \n",
       "2  2016.0    56000.0     2179.0         140.00         1          1   \n",
       "3  2015.0   190000.0     2494.0         100.60         1          1   \n",
       "4  2018.0    40000.0     1497.0         121.31         1          1   \n",
       "\n",
       "   owner_flg  seller_type_flg  transmission_flg  brand_top_half  \\\n",
       "0          1                1                 1               0   \n",
       "1          1                1                 1               0   \n",
       "2          1                0                 0               0   \n",
       "3          0                1                 1               1   \n",
       "4          1                1                 1               0   \n",
       "\n",
       "   brand_top_third  brand_bottom_third  \n",
       "0                0                   1  \n",
       "1                0                   1  \n",
       "2                0                   0  \n",
       "3                0                   0  \n",
       "4                0                   0  "
      ]
     },
     "execution_count": 29,
     "metadata": {},
     "output_type": "execute_result"
    }
   ],
   "source": [
    "def fe_split(fe_df):\n",
    "    return fe_df.select_dtypes(include='number').drop(columns='selling_price_inr'), fe_df['selling_price_inr']\n",
    "\n",
    "X_train, y_train = fe_split(fe_train)\n",
    "X_train.head()"
   ]
  },
  {
   "cell_type": "code",
   "execution_count": 30,
   "id": "7dae1a15",
   "metadata": {},
   "outputs": [
    {
     "data": {
      "text/plain": [
       "0     135000.0\n",
       "1     925000.0\n",
       "2    1275000.0\n",
       "3     950000.0\n",
       "4     860000.0\n",
       "Name: selling_price_inr, dtype: float64"
      ]
     },
     "execution_count": 30,
     "metadata": {},
     "output_type": "execute_result"
    }
   ],
   "source": [
    "y_train.head()"
   ]
  },
  {
   "cell_type": "markdown",
   "id": "af407a01",
   "metadata": {},
   "source": [
    "# Model Building\n",
    "We will use Random Forest Regressor as the model for predicting car prices.To find the best hyperparameters of the model, we will use the grid search method with an adjusted R-squared as the main score."
   ]
  },
  {
   "cell_type": "code",
   "execution_count": 31,
   "id": "ebe43258",
   "metadata": {},
   "outputs": [],
   "source": [
    "# creating adjusted R-squared score, since it isn't present in sklearn library\n",
    "# estimator required for dynamic change of p value through cross-val process\n",
    "def adj_r2(estimator, X, y_true):\n",
    "    n, p = X.shape\n",
    "    y_pred = estimator.predict(X)\n",
    "    r2 = r2_score(y_true, y_pred)\n",
    "    return 1 - (1 - r2)*(n - 1)/(n - p -1)\n",
    "\n",
    "param_dict = {\n",
    "    'n_estimators': [50, 100, 150, 200],\n",
    "    'max_features': ['auto', 'sqrt'],\n",
    "    'max_depth': [None, 5, 7, 9],\n",
    "    'random_state': [0]\n",
    "}\n",
    "scoring_dict = {\n",
    "    \"MAE\": \"neg_mean_absolute_error\",\n",
    "    \"MSE\": \"neg_mean_squared_error\",\n",
    "    \"adj_R2\": adj_r2\n",
    "}\n",
    "\n",
    "def gscv(X_train, y_train):\n",
    "    grid = GridSearchCV(\n",
    "        RandomForestRegressor(),\n",
    "        param_grid=param_dict,\n",
    "        scoring=scoring_dict,\n",
    "        refit=\"adj_R2\"\n",
    "    ) \n",
    "    grid.fit(X_train, y_train)\n",
    "    \n",
    "    return grid\n",
    "\n",
    "grid = gscv(X_train, y_train)"
   ]
  },
  {
   "cell_type": "code",
   "execution_count": 32,
   "id": "b3621fc1",
   "metadata": {},
   "outputs": [],
   "source": [
    "# checking scores of best model\n",
    "def check_results(grid):\n",
    "    results_df = pd.DataFrame(grid.cv_results_)\n",
    "    cols = [f'{el1}_test_{el2}' for el1 in ['mean', 'std', 'rank'] for el2 in ['MAE', 'MSE', 'adj_R2']]\n",
    "    return results_df.loc[results_df['params']==grid.best_params_, cols].abs().T"
   ]
  },
  {
   "cell_type": "code",
   "execution_count": 33,
   "id": "d1f44e1a",
   "metadata": {
    "scrolled": true
   },
   "outputs": [
    {
     "data": {
      "text/html": [
       "<div>\n",
       "<style scoped>\n",
       "    .dataframe tbody tr th:only-of-type {\n",
       "        vertical-align: middle;\n",
       "    }\n",
       "\n",
       "    .dataframe tbody tr th {\n",
       "        vertical-align: top;\n",
       "    }\n",
       "\n",
       "    .dataframe thead th {\n",
       "        text-align: right;\n",
       "    }\n",
       "</style>\n",
       "<table border=\"1\" class=\"dataframe\">\n",
       "  <thead>\n",
       "    <tr style=\"text-align: right;\">\n",
       "      <th></th>\n",
       "      <th>7</th>\n",
       "    </tr>\n",
       "  </thead>\n",
       "  <tbody>\n",
       "    <tr>\n",
       "      <th>mean_test_MAE</th>\n",
       "      <td>1.042125e+05</td>\n",
       "    </tr>\n",
       "    <tr>\n",
       "      <th>mean_test_MSE</th>\n",
       "      <td>9.091759e+10</td>\n",
       "    </tr>\n",
       "    <tr>\n",
       "      <th>mean_test_adj_R2</th>\n",
       "      <td>8.835103e-01</td>\n",
       "    </tr>\n",
       "    <tr>\n",
       "      <th>std_test_MAE</th>\n",
       "      <td>3.200572e+03</td>\n",
       "    </tr>\n",
       "    <tr>\n",
       "      <th>std_test_MSE</th>\n",
       "      <td>7.429467e+10</td>\n",
       "    </tr>\n",
       "    <tr>\n",
       "      <th>std_test_adj_R2</th>\n",
       "      <td>6.757745e-02</td>\n",
       "    </tr>\n",
       "    <tr>\n",
       "      <th>rank_test_MAE</th>\n",
       "      <td>1.000000e+00</td>\n",
       "    </tr>\n",
       "    <tr>\n",
       "      <th>rank_test_MSE</th>\n",
       "      <td>1.000000e+00</td>\n",
       "    </tr>\n",
       "    <tr>\n",
       "      <th>rank_test_adj_R2</th>\n",
       "      <td>1.000000e+00</td>\n",
       "    </tr>\n",
       "  </tbody>\n",
       "</table>\n",
       "</div>"
      ],
      "text/plain": [
       "                             7\n",
       "mean_test_MAE     1.042125e+05\n",
       "mean_test_MSE     9.091759e+10\n",
       "mean_test_adj_R2  8.835103e-01\n",
       "std_test_MAE      3.200572e+03\n",
       "std_test_MSE      7.429467e+10\n",
       "std_test_adj_R2   6.757745e-02\n",
       "rank_test_MAE     1.000000e+00\n",
       "rank_test_MSE     1.000000e+00\n",
       "rank_test_adj_R2  1.000000e+00"
      ]
     },
     "execution_count": 33,
     "metadata": {},
     "output_type": "execute_result"
    }
   ],
   "source": [
    "check_results(grid)"
   ]
  },
  {
   "cell_type": "markdown",
   "id": "46b8fcd2",
   "metadata": {},
   "source": [
    "The scores are good enough, but let's try to improve model performance by narrowing down the variety of cars. We will drop rows with rare categorical values (count of values in column < 10, which is ~0.05% of data) because such cases are probably exclusions, so there is little need for them."
   ]
  },
  {
   "cell_type": "code",
   "execution_count": 34,
   "id": "9673fa56",
   "metadata": {},
   "outputs": [
    {
     "data": {
      "text/plain": [
       "'We are dropping  0.24% of data'"
      ]
     },
     "execution_count": 34,
     "metadata": {},
     "output_type": "execute_result"
    }
   ],
   "source": [
    "brand_count = fe_train['brand'].value_counts()\n",
    "usual_brands = list(brand_count[brand_count > 10].index)\n",
    "mask = (fe_train['brand'].isin(usual_brands)) & (fe_train['fuel']!='Electric') & (fe_train['seats']!='14')\n",
    "f'We are dropping {(1-mask.sum() / len(fe_train))*100 : .2f}% of data'"
   ]
  },
  {
   "cell_type": "code",
   "execution_count": 35,
   "id": "f94090ec",
   "metadata": {},
   "outputs": [],
   "source": [
    "X_train2, y_train2 = fe_split(fe_train[mask])\n",
    "\n",
    "grid2 = gscv(X_train2, y_train2)"
   ]
  },
  {
   "cell_type": "code",
   "execution_count": 36,
   "id": "4e74655d",
   "metadata": {},
   "outputs": [
    {
     "data": {
      "text/html": [
       "<div>\n",
       "<style scoped>\n",
       "    .dataframe tbody tr th:only-of-type {\n",
       "        vertical-align: middle;\n",
       "    }\n",
       "\n",
       "    .dataframe tbody tr th {\n",
       "        vertical-align: top;\n",
       "    }\n",
       "\n",
       "    .dataframe thead th {\n",
       "        text-align: right;\n",
       "    }\n",
       "</style>\n",
       "<table border=\"1\" class=\"dataframe\">\n",
       "  <thead>\n",
       "    <tr style=\"text-align: right;\">\n",
       "      <th></th>\n",
       "      <th>4</th>\n",
       "    </tr>\n",
       "  </thead>\n",
       "  <tbody>\n",
       "    <tr>\n",
       "      <th>mean_test_MAE</th>\n",
       "      <td>1.010821e+05</td>\n",
       "    </tr>\n",
       "    <tr>\n",
       "      <th>mean_test_MSE</th>\n",
       "      <td>4.751947e+10</td>\n",
       "    </tr>\n",
       "    <tr>\n",
       "      <th>mean_test_adj_R2</th>\n",
       "      <td>9.175641e-01</td>\n",
       "    </tr>\n",
       "    <tr>\n",
       "      <th>std_test_MAE</th>\n",
       "      <td>2.884932e+03</td>\n",
       "    </tr>\n",
       "    <tr>\n",
       "      <th>std_test_MSE</th>\n",
       "      <td>9.654562e+09</td>\n",
       "    </tr>\n",
       "    <tr>\n",
       "      <th>std_test_adj_R2</th>\n",
       "      <td>9.218427e-03</td>\n",
       "    </tr>\n",
       "    <tr>\n",
       "      <th>rank_test_MAE</th>\n",
       "      <td>3.000000e+00</td>\n",
       "    </tr>\n",
       "    <tr>\n",
       "      <th>rank_test_MSE</th>\n",
       "      <td>1.000000e+00</td>\n",
       "    </tr>\n",
       "    <tr>\n",
       "      <th>rank_test_adj_R2</th>\n",
       "      <td>1.000000e+00</td>\n",
       "    </tr>\n",
       "  </tbody>\n",
       "</table>\n",
       "</div>"
      ],
      "text/plain": [
       "                             4\n",
       "mean_test_MAE     1.010821e+05\n",
       "mean_test_MSE     4.751947e+10\n",
       "mean_test_adj_R2  9.175641e-01\n",
       "std_test_MAE      2.884932e+03\n",
       "std_test_MSE      9.654562e+09\n",
       "std_test_adj_R2   9.218427e-03\n",
       "rank_test_MAE     3.000000e+00\n",
       "rank_test_MSE     1.000000e+00\n",
       "rank_test_adj_R2  1.000000e+00"
      ]
     },
     "execution_count": 36,
     "metadata": {},
     "output_type": "execute_result"
    }
   ],
   "source": [
    "check_results(grid2)"
   ]
  },
  {
   "cell_type": "markdown",
   "id": "bcb93bea",
   "metadata": {},
   "source": [
    "The model with slightly reduced data shows better results. Since we are dropping only 0.24% of data this way, we will choose this model for deployment. Now let's build a data preparation and prediction workflow for the validation dataset with code from the cells above."
   ]
  },
  {
   "cell_type": "code",
   "execution_count": 37,
   "id": "996d2565",
   "metadata": {},
   "outputs": [],
   "source": [
    "# <============================================== Data Preparation functions ==============================================>\n",
    "# >>>>>>>>>> Data Cleanning functions <<<<<<<<<<\n",
    "# 1. create brand column from name\n",
    "def brand_col(data):\n",
    "    df = data.copy()\n",
    "    df['brand'] = df['name'].str.split().str[0]\n",
    "    \n",
    "    replace_dict = {'Land' : 'Land Rover', 'Mini' : 'Mini Cooper', 'Isuzu' : 'ISUZU'}\n",
    "    df['brand'] = df['brand'].replace(replace_dict)\n",
    "    \n",
    "    return df\n",
    "\n",
    "\n",
    "# 2. check if all values seem to be correct\n",
    "def values_check(data):\n",
    "    df = data.copy()\n",
    "    \n",
    "    allowed_vals = {\n",
    "        'fuel': [np.nan, 'Petrol', 'Diesel', 'CNG', 'LPG'],\n",
    "        'seller_type': [np.nan, 'Individual', 'Dealer'],\n",
    "        'transmission': [np.nan, 'Manual', 'Automatic'],\n",
    "        'owner': [np.nan, 'First Owner', 'Second Owner', 'Third Owner', 'Fourth & Above Owner'],\n",
    "        'seats': [np.nan, '2', '4', '5', '6', '7', '8', '9', '10'],\n",
    "        'brand': [np.nan, 'Hyundai', 'Mahindra', 'Chevrolet', 'Honda', 'Ford', 'Tata', 'Toyota', 'Maruti', 'BMW', 'Volkswagen', 'Audi', 'Nissan', 'Skoda', 'Mercedes-Benz', 'Datsun', 'Renault', 'Fiat', 'MG', 'Jeep', 'Volvo', 'Kia', 'Land Rover', 'Mitsubishi', 'Jaguar', 'Porsche', 'Mini Cooper', 'ISUZU']\n",
    "    }\n",
    "    drop_df = pd.DataFrame(columns = df.columns)\n",
    "    for col, allowed_vals in allowed_vals.items():\n",
    "        drop_df = drop_df.append(df[~df[col].isin(allowed_vals)])\n",
    "        df = df[df[col].isin(allowed_vals)].reset_index(drop=True)\n",
    "        \n",
    "    return df, drop_df\n",
    "\n",
    "\n",
    "# 3.1. update of func for unseen data (known_df added as source of known data)\n",
    "def fillna_stat_by_col(data, known_df, g_col, f_colls, fill_method):\n",
    "    df = data.copy()\n",
    "    unique_vals = df.loc[df.isnull().any(axis=1), g_col].unique()\n",
    "    for val in unique_vals:\n",
    "        if fill_method=='mean':\n",
    "            df.loc[df[g_col]==val, f_colls] = df.loc[df[g_col]==val, f_colls].fillna(known_df.loc[known_df[g_col]==val, f_colls].mean(numeric_only=True))\n",
    "        elif fill_method=='mode':\n",
    "            df.loc[df[g_col]==val, f_colls] = df.loc[df[g_col]==val, f_colls].fillna(known_df.loc[known_df[g_col]==val, f_colls].mode().iloc[0,:])\n",
    "        else:\n",
    "            print(f\"Error: method '{fill_method}' is incorrect.\")\n",
    "    \n",
    "    return df\n",
    "\n",
    "# 3.2. for filling all nulls with the help of fillna_stat_by_col() func\n",
    "def all_fillna_stat(data, known_df):\n",
    "    df = data.copy()\n",
    "    \n",
    "    # name (brand), year and owner will be mandatory input fields\n",
    "    mode_all_col = 'seller_type'\n",
    "    mode_brand_cols = ['fuel', 'transmission', 'seats']\n",
    "    mean_brand_cols = ['engine_cc', 'max_power_bhp']\n",
    "    mean_owner_col = 'km_driven'\n",
    "        \n",
    "    na_cols = df.columns[df.isna().any()].tolist()\n",
    "    \n",
    "    if mode_all_col in na_cols:\n",
    "        df[mode_all_col] = known_df[mode_all_col].mode()\n",
    "    \n",
    "    if mean_owner_col in na_cols:\n",
    "        df = fillna_stat_by_col(df, known_df, 'owner', mean_owner_col, 'mean')\n",
    "    \n",
    "    inter = lambda lst1, lst2: [value for value in lst1 if value in lst2]\n",
    "    mode_brand_cols = inter(mode_brand_cols, na_cols)\n",
    "    df = fillna_stat_by_col(df, known_df, 'brand', mode_brand_cols, 'mode')\n",
    "    \n",
    "    mean_brand_cols = inter(mean_brand_cols, na_cols)\n",
    "    df = fillna_stat_by_col(df, known_df, 'brand', mean_brand_cols, 'mean')\n",
    "    \n",
    "    return df\n",
    "\n",
    "\n",
    "# 4. check and drop nulls\n",
    "def na_check(data, drop_data):\n",
    "    df, drop_df = data.copy(), drop_data.copy()\n",
    "    if df.isna().any().any():\n",
    "        drop_df = drop_df.append(df[df.isna().any(axis=1)])\n",
    "        df.dropna(inplace=True).reset_index(drop=True)\n",
    "        \n",
    "    return df, drop_df\n",
    "\n",
    "\n",
    "\n",
    "# >>>>>>>>>> Feature Engineering functions <<<<<<<<<<\n",
    "# 1.1. create '..._flg' column\n",
    "def col_to_col_flg(data, col, vals_1):\n",
    "    df = data.copy()\n",
    "    df[col+'_flg'] = df.apply(lambda row: int(row[col] in vals_1), axis=1)\n",
    "    return df\n",
    "\n",
    "# 1.2. create '..._flg' columns with col_to_col_flg() func\n",
    "def all_col_to_col_flg(data):\n",
    "    df = data.copy()\n",
    "    cols_vals_1_dict = {\n",
    "        'fuel': ['Diesel', 'Petrol'],\n",
    "        'seats': ['2', '4', '5', '7'],\n",
    "        'owner': ['First Owner'],\n",
    "        'seller_type': ['Individual'],\n",
    "        'transmission': ['Manual']\n",
    "    }\n",
    "\n",
    "    for col, vals_1 in cols_vals_1_dict.items():\n",
    "        df = col_to_col_flg(df, col, vals_1)\n",
    "        \n",
    "    return df\n",
    "\n",
    "\n",
    "# 2. create columns from brand\n",
    "def brand_by_mean_price(data, known_df):\n",
    "    df = data.copy()\n",
    "    mean_price_per_brand = known_df.groupby(['brand']).mean()['selling_price_inr'].sort_values(ascending=False)\n",
    "    n = len(mean_price_per_brand)\n",
    "\n",
    "    df['brand_top_half'] = df.apply(lambda row: int(row['brand'] in mean_price_per_brand.iloc[:n//2].index), axis=1)\n",
    "    df['brand_top_third'] = df.apply(lambda row: int(row['brand'] in mean_price_per_brand.iloc[:n//3].index), axis=1)\n",
    "    df['brand_bottom_third'] = df.apply(lambda row: int(row['brand'] in mean_price_per_brand.iloc[-n//3:].index), axis=1)\n",
    "\n",
    "    return df\n",
    "\n",
    "\n",
    "# >>>>>>>>>> Features/target split <<<<<<<<<<\n",
    "def xy_split(data):\n",
    "    return data.select_dtypes(include='number').drop(columns='selling_price_inr'), data['selling_price_inr']\n",
    "\n",
    "\n",
    "# >>>>>>>>>> Main function (unify all functions above) <<<<<<<<<<\n",
    "def data_prep(data, train_df, y_true_flg=False):\n",
    "    df = data.copy()\n",
    "    \n",
    "    # Data Cleaning\n",
    "    df = brand_col(df)\n",
    "    df, drop_df = values_check(df)\n",
    "    df = all_fillna_stat(df, train_df)\n",
    "    df, drop_df = na_check(df, drop_df)\n",
    "    \n",
    "    # Feature Engineering\n",
    "    df = all_col_to_col_flg(df)\n",
    "    df = brand_by_mean_price(df, train_df)\n",
    "    \n",
    "    # Features/target split\n",
    "    if y_true_flg:\n",
    "        X, y = xy_split(df)\n",
    "        return (X, y), drop_df\n",
    "    \n",
    "    else:\n",
    "        return df, drop_df\n",
    "\n",
    "\n",
    "\n",
    "\n",
    "# <============================================== Prediction function ==============================================>\n",
    "# predict with evaluation of model accuracy\n",
    "def pred_with_scores(model, X, y_true=None):\n",
    "    y_pred = model.predict(X)\n",
    "    if y_true is not None:\n",
    "        r2 = r2_score(y_true, y_pred)\n",
    "        n, p = X.shape\n",
    "        score_dict={\n",
    "            'MAE': mean_absolute_error(y_true, y_pred),\n",
    "            'MSE': mean_squared_error(y_true, y_pred),\n",
    "            'adj_R2': 1 - (1 - r2)*(n - 1)/(n - p -1)\n",
    "        }\n",
    "        scores = pd.Series(score_dict)\n",
    "        display(scores)\n",
    "        \n",
    "    return y_pred\n",
    "\n",
    "\n",
    "\n",
    "\n",
    "# <======================================== Data Preparation + Prediction function ========================================>\n",
    "def data_prep_and_predict(data, train_df, model, y_true_flg=False, return_drop=False):\n",
    "    df = data.copy()\n",
    "    df, drop_df = data_prep(df, train_df, y_true_flg=y_true_flg)\n",
    "    if y_true_flg:\n",
    "        y_pred = pred_with_scores(model, df[0], df[1])\n",
    "    else:\n",
    "        y_pred = pred_with_scores(model, df)\n",
    "    \n",
    "    return (y_pred, drop_df) if return_drop else y_pred"
   ]
  },
  {
   "cell_type": "code",
   "execution_count": 38,
   "id": "044e8512",
   "metadata": {},
   "outputs": [
    {
     "data": {
      "text/plain": [
       "RandomForestRegressor(max_features='sqrt', n_estimators=50, random_state=0)"
      ]
     },
     "execution_count": 38,
     "metadata": {},
     "output_type": "execute_result"
    }
   ],
   "source": [
    "rfr = grid2.best_estimator_\n",
    "rfr"
   ]
  },
  {
   "cell_type": "code",
   "execution_count": 39,
   "id": "8051af99",
   "metadata": {},
   "outputs": [
    {
     "name": "stdout",
     "output_type": "stream",
     "text": [
      "<===== Scores on validation dataset =====>\n"
     ]
    },
    {
     "data": {
      "text/plain": [
       "MAE       9.457107e+04\n",
       "MSE       5.501191e+10\n",
       "adj_R2    8.985857e-01\n",
       "dtype: float64"
      ]
     },
     "metadata": {},
     "output_type": "display_data"
    },
    {
     "name": "stdout",
     "output_type": "stream",
     "text": [
      "<===== Scores of cross validation on train dataset  =====>\n",
      "                             4\n",
      "mean_test_MAE     1.010821e+05\n",
      "mean_test_MSE     4.751947e+10\n",
      "mean_test_adj_R2  9.175641e-01\n"
     ]
    }
   ],
   "source": [
    "print('<===== Scores on validation dataset =====>')\n",
    "y_pred, drop_df = data_prep_and_predict(raw_valid, clean_train, rfr, True, True)\n",
    "print('<===== Scores of cross validation on train dataset  =====>')\n",
    "print(check_results(grid2).iloc[:3])"
   ]
  },
  {
   "cell_type": "markdown",
   "id": "0fc1d61a",
   "metadata": {},
   "source": [
    "The output shows that the model performed almost equally well on unseen data, which is a good sign. As the last step, we will save the model in the *rfr_model.sav* file and the cleaned train dataset in the *clean_train.csv* file, so we can use them later."
   ]
  },
  {
   "cell_type": "code",
   "execution_count": 40,
   "id": "da74c0d5",
   "metadata": {},
   "outputs": [],
   "source": [
    "pickle.dump(rfr, open('model/rfr_model.sav', 'wb'))\n",
    "clean_train[mask].to_csv('data/clean_train.csv', index=False)"
   ]
  },
  {
   "cell_type": "markdown",
   "id": "fc9c87f8",
   "metadata": {},
   "source": [
    "That's the end of part 2 of the *'Building a car price prediction model for the CarDekho website'* project. You can check the web app with created model [here](https://share.streamlit.io/tushar92644/price-predictor-of-cars-/main/app/app.py)."
   ]
  }
 ],
 "metadata": {
  "kernelspec": {
   "display_name": "Python 3 (ipykernel)",
   "language": "python",
   "name": "python3"
  },
  "language_info": {
   "codemirror_mode": {
    "name": "ipython",
    "version": 3
   },
   "file_extension": ".py",
   "mimetype": "text/x-python",
   "name": "python",
   "nbconvert_exporter": "python",
   "pygments_lexer": "ipython3",
   "version": "3.9.7"
  },
  "papermill": {
   "default_parameters": {},
   "duration": 48.908203,
   "end_time": "2022-03-07T07:53:38.931069",
   "environment_variables": {},
   "exception": null,
   "input_path": "__notebook__.ipynb",
   "output_path": "__notebook__.ipynb",
   "parameters": {},
   "start_time": "2022-03-07T07:52:50.022866",
   "version": "2.3.3"
  }
 },
 "nbformat": 4,
 "nbformat_minor": 5
}
